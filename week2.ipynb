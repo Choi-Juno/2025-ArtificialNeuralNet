{
 "cells": [
  {
   "cell_type": "code",
   "execution_count": null,
   "id": "2cdb5e12",
   "metadata": {},
   "outputs": [],
   "source": []
  },
  {
   "cell_type": "code",
   "execution_count": 39,
   "id": "e81d95fe",
   "metadata": {},
   "outputs": [
    {
     "name": "stdout",
     "output_type": "stream",
     "text": [
      "분모: 5330.00\n",
      "분자: 10086.00\n",
      "\n",
      "x의 평균값: 20.50\n",
      "y의 평균값: 100.45\n",
      "\n",
      "기울기 a = 1.89\n",
      "y 절편 b = 61.66\n",
      "\n"
     ]
    }
   ],
   "source": [
    "import numpy as np\n",
    "\n",
    "x = np.array([3, 7, 12, 15, 18, 20, 22, 25, 27, 30, 32, 34, 5, 8, 10, 13, 16, 19, 21, 23,\n",
    "              26, 28, 31, 33, 35, 2, 4, 6, 9, 11, 14, 17, 24, 29, 1, 36, 37, 38, 39, 40])\n",
    "\n",
    "y = np.array([60, 75, 88, 95, 102, 105, 107, 110, 112, 115, 118, 120, 70, 78, 82, 90, 93, 99, 101, 104,\n",
    "              108, 111, 119, 123, 125, 62, 68, 73, 80, 85, 91, 96, 99, 121, 58, 130, 132, 135, 138, 140])\n",
    "\n",
    "mx = np.mean(x)\n",
    "my = np.mean(y)\n",
    "\n",
    "divisor = sum([(i - mx)**2 for i in x])\n",
    "\n",
    "def top(x, max, y, my):\n",
    "    d = 0\n",
    "    for i in range(len(x)):\n",
    "        d += (x[i] - mx) * (y[i] - my)\n",
    "    return d\n",
    "\n",
    "dividend = top(x, mx, y, my)\n",
    "\n",
    "a = dividend / divisor\n",
    "b = my - (mx * a)\n",
    "\n",
    "print(f'분모: {divisor:.2f}')\n",
    "print(f'분자: {dividend:.2f}\\n')\n",
    "\n",
    "print(f'x의 평균값: {mx:.2f}')\n",
    "print(f'y의 평균값: {my:.2f}\\n')\n",
    "\n",
    "print(f\"기울기 a = {a:.2f}\")\n",
    "print(f\"y 절편 b = {b:.2f}\\n\")\n",
    "\n",
    "\n"
   ]
  },
  {
   "cell_type": "code",
   "execution_count": null,
   "id": "dc46b967",
   "metadata": {},
   "outputs": [
    {
     "name": "stdout",
     "output_type": "stream",
     "text": [
      "=== 공부시간과 시험점수 데이터 ===\n",
      " 공부시간(시간)  시험점수(점)\n",
      "        3       60\n",
      "        7       75\n",
      "       12       88\n",
      "       15       95\n",
      "       18      102\n",
      "       20      105\n",
      "       22      107\n",
      "       25      110\n",
      "       27      112\n",
      "       30      115\n",
      "       32      118\n",
      "       34      120\n",
      "        5       70\n",
      "        8       78\n",
      "       10       82\n",
      "       13       90\n",
      "       16       93\n",
      "       19       99\n",
      "       21      101\n",
      "       23      104\n",
      "       26      108\n",
      "       28      111\n",
      "       31      119\n",
      "       33      123\n",
      "       35      125\n",
      "        2       62\n",
      "        4       68\n",
      "        6       73\n",
      "        9       80\n",
      "       11       85\n",
      "       14       91\n",
      "       17       96\n",
      "       24       99\n",
      "       29      121\n",
      "        1       58\n",
      "       36      130\n",
      "       37      132\n",
      "       38      135\n",
      "       39      138\n",
      "       40      140\n"
     ]
    }
   ],
   "source": [
    "# 데이터를 pandas 데이터프레임으로 표시\n",
    "import pandas as pd\n",
    "\n",
    "# 데이터프레임 생성\n",
    "df = pd.DataFrame({\n",
    "    '시간': x,\n",
    "    '이동거리': y\n",
    "})\n",
    "\n",
    "print(\"=== 공부시간과 시험점수 데이터 ===\")\n",
    "print(df.to_string(index=False))\n"
   ]
  },
  {
   "cell_type": "code",
   "execution_count": null,
   "id": "74503b64",
   "metadata": {},
   "outputs": [
    {
     "name": "stderr",
     "output_type": "stream",
     "text": [
      "/Users/junochoi/Documents/University/1학년_2학기/인공신경망/new_venv/lib/python3.13/site-packages/IPython/core/pylabtools.py:170: UserWarning: Glyph 51060 (\\N{HANGUL SYLLABLE I}) missing from font(s) DejaVu Sans.\n",
      "  fig.canvas.print_figure(bytes_io, **kw)\n",
      "/Users/junochoi/Documents/University/1학년_2학기/인공신경망/new_venv/lib/python3.13/site-packages/IPython/core/pylabtools.py:170: UserWarning: Glyph 46041 (\\N{HANGUL SYLLABLE DONG}) missing from font(s) DejaVu Sans.\n",
      "  fig.canvas.print_figure(bytes_io, **kw)\n",
      "/Users/junochoi/Documents/University/1학년_2학기/인공신경망/new_venv/lib/python3.13/site-packages/IPython/core/pylabtools.py:170: UserWarning: Glyph 49884 (\\N{HANGUL SYLLABLE SI}) missing from font(s) DejaVu Sans.\n",
      "  fig.canvas.print_figure(bytes_io, **kw)\n",
      "/Users/junochoi/Documents/University/1학년_2학기/인공신경망/new_venv/lib/python3.13/site-packages/IPython/core/pylabtools.py:170: UserWarning: Glyph 44036 (\\N{HANGUL SYLLABLE GAN}) missing from font(s) DejaVu Sans.\n",
      "  fig.canvas.print_figure(bytes_io, **kw)\n",
      "/Users/junochoi/Documents/University/1학년_2학기/인공신경망/new_venv/lib/python3.13/site-packages/IPython/core/pylabtools.py:170: UserWarning: Glyph 44144 (\\N{HANGUL SYLLABLE GEO}) missing from font(s) DejaVu Sans.\n",
      "  fig.canvas.print_figure(bytes_io, **kw)\n",
      "/Users/junochoi/Documents/University/1학년_2학기/인공신경망/new_venv/lib/python3.13/site-packages/IPython/core/pylabtools.py:170: UserWarning: Glyph 47532 (\\N{HANGUL SYLLABLE RI}) missing from font(s) DejaVu Sans.\n",
      "  fig.canvas.print_figure(bytes_io, **kw)\n"
     ]
    },
    {
     "data": {
      "image/png": "[encoded data removed]",
      "text/plain": [
       "<Figure size 640x480 with 1 Axes>"
      ]
     },
     "metadata": {},
     "output_type": "display_data"
    }
   ],
   "source": [
    "%matplotlib inline\n",
    "import matplotlib.pyplot as plt\n",
    "\n",
    "x1 = x\n",
    "y1 = y\n",
    "x2 = np.arange(0, 40)\n",
    "y2 = a * x2 + b\n",
    "\n",
    "plt.plot(x, y, 'o')\n",
    "plt.plot(x2, y2, color='blue')\n",
    "plt.grid(color='0.8')\n",
    "plt.xlabel('이동시간')\n",
    "plt.ylabel('이동거리')\n",
    "plt.show()\n"
   ]
  },
  {
   "cell_type": "code",
   "execution_count": null,
   "id": "c10ead50",
   "metadata": {},
   "outputs": [],
   "source": []
  },
  {
   "cell_type": "code",
   "execution_count": null,
   "id": "c0aafa77",
   "metadata": {},
   "outputs": [],
   "source": []
  }
 ],
 "metadata": {
  "kernelspec": {
   "display_name": "new_venv",
   "language": "python",
   "name": "python3"
  },
  "language_info": {
   "codemirror_mode": {
    "name": "ipython",
    "version": 3
   },
   "file_extension": ".py",
   "mimetype": "text/x-python",
   "name": "python",
   "nbconvert_exporter": "python",
   "pygments_lexer": "ipython3",
   "version": "3.13.3"
  }
 },
 "nbformat": 4,
 "nbformat_minor": 5
}
